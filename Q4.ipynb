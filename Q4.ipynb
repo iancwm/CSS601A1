{
  "nbformat": 4,
  "nbformat_minor": 0,
  "metadata": {
    "colab": {
      "name": "CS601A1Q4.ipynb",
      "provenance": [],
      "collapsed_sections": [],
      "machine_shape": "hm"
    },
    "kernelspec": {
      "name": "python3",
      "display_name": "Python 3"
    },
    "accelerator": "GPU"
  },
  "cells": [
    {
      "cell_type": "code",
      "metadata": {
        "id": "lwEOYrCfMbkv"
      },
      "source": [
        "import tensorflow as tf\r\n",
        "from tensorflow.keras.models import Sequential\r\n",
        "from tensorflow.keras import layers\r\n",
        "from tensorflow.keras.utils import to_categorical\r\n",
        "from tensorflow.keras.optimizers import Adagrad\r\n",
        "from tensorflow.keras.losses import CategoricalCrossentropy\r\n",
        "from tensorflow.keras.metrics import CategoricalAccuracy\r\n",
        "from tensorflow.keras.callbacks import ReduceLROnPlateau, ModelCheckpoint\r\n",
        "\r\n",
        "from sklearn.metrics import confusion_matrix, classification_report, accuracy_score\r\n",
        "import numpy as np\r\n",
        "from matplotlib import pyplot as plt\r\n",
        "import seaborn as sns"
      ],
      "execution_count": 106,
      "outputs": []
    },
    {
      "cell_type": "code",
      "metadata": {
        "id": "8su83lZQkiCC"
      },
      "source": [
        "directory = 'fashion_MNIST_checkpoint'\r\n",
        "epochs = 30\r\n",
        "optimizer = Adagrad(learning_rate=0.005,initial_accumulator_value=0.05,epsilon=1e-6)\r\n",
        "\r\n",
        "model_checkpoint_callback = ModelCheckpoint(\r\n",
        "    filepath=directory,\r\n",
        "    save_weights_only=True,\r\n",
        "    monitor='categorical_cross_entropy',\r\n",
        "    mode='max',\r\n",
        "    save_best_only=True)\r\n",
        "reduce_lr = ReduceLROnPlateau(\r\n",
        "    monitor='loss',\r\n",
        "    factor = 0.2,\r\n",
        "    patience = 5,\r\n",
        "    min_lr = 0.0001\r\n",
        ")"
      ],
      "execution_count": 107,
      "outputs": []
    },
    {
      "cell_type": "code",
      "metadata": {
        "id": "cFgeK4S-I7PZ",
        "colab": {
          "base_uri": "https://localhost:8080/"
        },
        "outputId": "33ada12d-89e3-4338-e28c-ee184fdd24ca"
      },
      "source": [
        "fashion_mnist = tf.keras.datasets.fashion_mnist\r\n",
        "(train_images, train_labels), (test_images, test_labels) = fashion_mnist.load_data()\r\n",
        "train_images = train_images/255.0\r\n",
        "test_images = test_images/255.0\r\n",
        "print([train_images.shape,test_images.shape,train_labels.shape,test_labels.shape])"
      ],
      "execution_count": 108,
      "outputs": [
        {
          "output_type": "stream",
          "text": [
            "[(60000, 28, 28), (10000, 28, 28), (60000,), (10000,)]\n"
          ],
          "name": "stdout"
        }
      ]
    },
    {
      "cell_type": "code",
      "metadata": {
        "id": "FNU1T6ePM_XP"
      },
      "source": [
        "size = 28\r\n",
        "train_count = len(train_images)\r\n",
        "test_count = len(test_images)\r\n",
        "input_shape = (size,size,1)\r\n",
        "train_images_shaped = train_images.reshape(train_count,size,size,1)\r\n",
        "test_images_shaped = test_images.reshape(test_count,size,size,1)\r\n",
        "train_labels_shaped = to_categorical(train_labels)\r\n",
        "test_labels_shaped = to_categorical(test_labels)"
      ],
      "execution_count": 109,
      "outputs": []
    },
    {
      "cell_type": "code",
      "metadata": {
        "id": "75PfD55BMXw2"
      },
      "source": [
        "model = Sequential()\r\n",
        "model.add(layers.Dense(64,activation='relu'))\r\n",
        "model.add(layers.Dropout(0.2))\r\n",
        "model.add(layers.Dense(256, activation='relu'))\r\n",
        "model.add(layers.Dropout(0.2))\r\n",
        "model.add(layers.Dense(128, activation='relu'))\r\n",
        "model.add(layers.Dropout(0.1))\r\n",
        "model.add(layers.Flatten())\r\n",
        "model.add(layers.Dense(10,activation='softmax'))"
      ],
      "execution_count": 110,
      "outputs": []
    },
    {
      "cell_type": "code",
      "metadata": {
        "id": "XUHNNvnmOXh6"
      },
      "source": [
        "model.compile(\r\n",
        "    optimizer=optimizer,\r\n",
        "    loss=\"categorical_crossentropy\",\r\n",
        "    metrics=[CategoricalCrossentropy(),CategoricalAccuracy()])"
      ],
      "execution_count": 111,
      "outputs": []
    },
    {
      "cell_type": "code",
      "metadata": {
        "colab": {
          "base_uri": "https://localhost:8080/"
        },
        "id": "RTful-qzPRHu",
        "outputId": "59c0654f-0520-4e7a-a071-0eabd6aa7ef1"
      },
      "source": [
        "history = model.fit(\r\n",
        "    train_images_shaped,\r\n",
        "    train_labels_shaped,\r\n",
        "    epochs=epochs,\r\n",
        "    callbacks=[model_checkpoint_callback,reduce_lr])"
      ],
      "execution_count": 112,
      "outputs": [
        {
          "output_type": "stream",
          "text": [
            "Epoch 1/30\n",
            "1875/1875 [==============================] - 14s 7ms/step - loss: 0.7719 - categorical_crossentropy: 0.7719 - categorical_accuracy: 0.7425\n",
            "WARNING:tensorflow:Can save best model only with categorical_cross_entropy available, skipping.\n",
            "Epoch 2/30\n",
            "1875/1875 [==============================] - 13s 7ms/step - loss: 0.4390 - categorical_crossentropy: 0.4390 - categorical_accuracy: 0.8456\n",
            "WARNING:tensorflow:Can save best model only with categorical_cross_entropy available, skipping.\n",
            "Epoch 3/30\n",
            "1875/1875 [==============================] - 13s 7ms/step - loss: 0.4098 - categorical_crossentropy: 0.4098 - categorical_accuracy: 0.8554\n",
            "WARNING:tensorflow:Can save best model only with categorical_cross_entropy available, skipping.\n",
            "Epoch 4/30\n",
            "1875/1875 [==============================] - 13s 7ms/step - loss: 0.3900 - categorical_crossentropy: 0.3900 - categorical_accuracy: 0.8612\n",
            "WARNING:tensorflow:Can save best model only with categorical_cross_entropy available, skipping.\n",
            "Epoch 5/30\n",
            "1875/1875 [==============================] - 13s 7ms/step - loss: 0.3737 - categorical_crossentropy: 0.3737 - categorical_accuracy: 0.8660\n",
            "WARNING:tensorflow:Can save best model only with categorical_cross_entropy available, skipping.\n",
            "Epoch 6/30\n",
            "1875/1875 [==============================] - 13s 7ms/step - loss: 0.3660 - categorical_crossentropy: 0.3660 - categorical_accuracy: 0.8690\n",
            "WARNING:tensorflow:Can save best model only with categorical_cross_entropy available, skipping.\n",
            "Epoch 7/30\n",
            "1875/1875 [==============================] - 13s 7ms/step - loss: 0.3601 - categorical_crossentropy: 0.3601 - categorical_accuracy: 0.8719\n",
            "WARNING:tensorflow:Can save best model only with categorical_cross_entropy available, skipping.\n",
            "Epoch 8/30\n",
            "1875/1875 [==============================] - 13s 7ms/step - loss: 0.3501 - categorical_crossentropy: 0.3501 - categorical_accuracy: 0.8758\n",
            "WARNING:tensorflow:Can save best model only with categorical_cross_entropy available, skipping.\n",
            "Epoch 9/30\n",
            "1875/1875 [==============================] - 13s 7ms/step - loss: 0.3489 - categorical_crossentropy: 0.3489 - categorical_accuracy: 0.8774\n",
            "WARNING:tensorflow:Can save best model only with categorical_cross_entropy available, skipping.\n",
            "Epoch 10/30\n",
            "1875/1875 [==============================] - 13s 7ms/step - loss: 0.3407 - categorical_crossentropy: 0.3407 - categorical_accuracy: 0.8787\n",
            "WARNING:tensorflow:Can save best model only with categorical_cross_entropy available, skipping.\n",
            "Epoch 11/30\n",
            "1875/1875 [==============================] - 13s 7ms/step - loss: 0.3327 - categorical_crossentropy: 0.3327 - categorical_accuracy: 0.8790\n",
            "WARNING:tensorflow:Can save best model only with categorical_cross_entropy available, skipping.\n",
            "Epoch 12/30\n",
            "1875/1875 [==============================] - 13s 7ms/step - loss: 0.3332 - categorical_crossentropy: 0.3332 - categorical_accuracy: 0.8815\n",
            "WARNING:tensorflow:Can save best model only with categorical_cross_entropy available, skipping.\n",
            "Epoch 13/30\n",
            "1875/1875 [==============================] - 13s 7ms/step - loss: 0.3280 - categorical_crossentropy: 0.3280 - categorical_accuracy: 0.8820\n",
            "WARNING:tensorflow:Can save best model only with categorical_cross_entropy available, skipping.\n",
            "Epoch 14/30\n",
            "1875/1875 [==============================] - 13s 7ms/step - loss: 0.3251 - categorical_crossentropy: 0.3251 - categorical_accuracy: 0.8834\n",
            "WARNING:tensorflow:Can save best model only with categorical_cross_entropy available, skipping.\n",
            "Epoch 15/30\n",
            "1875/1875 [==============================] - 13s 7ms/step - loss: 0.3198 - categorical_crossentropy: 0.3198 - categorical_accuracy: 0.8850\n",
            "WARNING:tensorflow:Can save best model only with categorical_cross_entropy available, skipping.\n",
            "Epoch 16/30\n",
            "1875/1875 [==============================] - 13s 7ms/step - loss: 0.3227 - categorical_crossentropy: 0.3227 - categorical_accuracy: 0.8851\n",
            "WARNING:tensorflow:Can save best model only with categorical_cross_entropy available, skipping.\n",
            "Epoch 17/30\n",
            "1875/1875 [==============================] - 13s 7ms/step - loss: 0.3192 - categorical_crossentropy: 0.3192 - categorical_accuracy: 0.8863\n",
            "WARNING:tensorflow:Can save best model only with categorical_cross_entropy available, skipping.\n",
            "Epoch 18/30\n",
            "1875/1875 [==============================] - 13s 7ms/step - loss: 0.3149 - categorical_crossentropy: 0.3149 - categorical_accuracy: 0.8860\n",
            "WARNING:tensorflow:Can save best model only with categorical_cross_entropy available, skipping.\n",
            "Epoch 19/30\n",
            "1875/1875 [==============================] - 13s 7ms/step - loss: 0.3103 - categorical_crossentropy: 0.3103 - categorical_accuracy: 0.8862\n",
            "WARNING:tensorflow:Can save best model only with categorical_cross_entropy available, skipping.\n",
            "Epoch 20/30\n",
            "1875/1875 [==============================] - 13s 7ms/step - loss: 0.3062 - categorical_crossentropy: 0.3062 - categorical_accuracy: 0.8910\n",
            "WARNING:tensorflow:Can save best model only with categorical_cross_entropy available, skipping.\n",
            "Epoch 21/30\n",
            "1875/1875 [==============================] - 13s 7ms/step - loss: 0.3092 - categorical_crossentropy: 0.3092 - categorical_accuracy: 0.8898\n",
            "WARNING:tensorflow:Can save best model only with categorical_cross_entropy available, skipping.\n",
            "Epoch 22/30\n",
            "1875/1875 [==============================] - 13s 7ms/step - loss: 0.3058 - categorical_crossentropy: 0.3058 - categorical_accuracy: 0.8901\n",
            "WARNING:tensorflow:Can save best model only with categorical_cross_entropy available, skipping.\n",
            "Epoch 23/30\n",
            "1875/1875 [==============================] - 13s 7ms/step - loss: 0.3067 - categorical_crossentropy: 0.3067 - categorical_accuracy: 0.8892\n",
            "WARNING:tensorflow:Can save best model only with categorical_cross_entropy available, skipping.\n",
            "Epoch 24/30\n",
            "1875/1875 [==============================] - 13s 7ms/step - loss: 0.3062 - categorical_crossentropy: 0.3062 - categorical_accuracy: 0.8879\n",
            "WARNING:tensorflow:Can save best model only with categorical_cross_entropy available, skipping.\n",
            "Epoch 25/30\n",
            "1875/1875 [==============================] - 13s 7ms/step - loss: 0.3011 - categorical_crossentropy: 0.3011 - categorical_accuracy: 0.8910\n",
            "WARNING:tensorflow:Can save best model only with categorical_cross_entropy available, skipping.\n",
            "Epoch 26/30\n",
            "1875/1875 [==============================] - 13s 7ms/step - loss: 0.3080 - categorical_crossentropy: 0.3080 - categorical_accuracy: 0.8887\n",
            "WARNING:tensorflow:Can save best model only with categorical_cross_entropy available, skipping.\n",
            "Epoch 27/30\n",
            "1875/1875 [==============================] - 13s 7ms/step - loss: 0.2973 - categorical_crossentropy: 0.2973 - categorical_accuracy: 0.8910\n",
            "WARNING:tensorflow:Can save best model only with categorical_cross_entropy available, skipping.\n",
            "Epoch 28/30\n",
            "1875/1875 [==============================] - 13s 7ms/step - loss: 0.2967 - categorical_crossentropy: 0.2967 - categorical_accuracy: 0.8908\n",
            "WARNING:tensorflow:Can save best model only with categorical_cross_entropy available, skipping.\n",
            "Epoch 29/30\n",
            "1875/1875 [==============================] - 13s 7ms/step - loss: 0.2994 - categorical_crossentropy: 0.2994 - categorical_accuracy: 0.8914\n",
            "WARNING:tensorflow:Can save best model only with categorical_cross_entropy available, skipping.\n",
            "Epoch 30/30\n",
            "1875/1875 [==============================] - 13s 7ms/step - loss: 0.2958 - categorical_crossentropy: 0.2958 - categorical_accuracy: 0.8927\n",
            "WARNING:tensorflow:Can save best model only with categorical_cross_entropy available, skipping.\n"
          ],
          "name": "stdout"
        }
      ]
    },
    {
      "cell_type": "code",
      "metadata": {
        "colab": {
          "base_uri": "https://localhost:8080/"
        },
        "id": "pSVTth34Pdje",
        "outputId": "c10668cb-d087-4cd1-947c-e3f7e4ec9fd4"
      },
      "source": [
        "model.evaluate(test_images_shaped,test_labels_shaped)"
      ],
      "execution_count": 113,
      "outputs": [
        {
          "output_type": "stream",
          "text": [
            "313/313 [==============================] - 1s 4ms/step - loss: 0.3779 - categorical_crossentropy: 0.3777 - categorical_accuracy: 0.8622\n"
          ],
          "name": "stdout"
        },
        {
          "output_type": "execute_result",
          "data": {
            "text/plain": [
              "[0.3779473304748535, 0.3776867389678955, 0.8622000217437744]"
            ]
          },
          "metadata": {
            "tags": []
          },
          "execution_count": 113
        }
      ]
    },
    {
      "cell_type": "code",
      "metadata": {
        "id": "GF2PoJudVz7_"
      },
      "source": [
        "test_labels_predicted = np.argmax(model.predict(test_images_shaped), axis=1)"
      ],
      "execution_count": 114,
      "outputs": []
    },
    {
      "cell_type": "code",
      "metadata": {
        "colab": {
          "base_uri": "https://localhost:8080/",
          "height": 572
        },
        "id": "tnNBRQ7VYC4A",
        "outputId": "ae91f5ee-34a0-4632-e9d6-e90390a50be2"
      },
      "source": [
        "cm = confusion_matrix(test_labels, test_labels_predicted)\r\n",
        "plt.figure(dpi=100,figsize=(6,6))\r\n",
        "ax=plt.gca()\r\n",
        "sns.heatmap(cm, annot=True, fmt='.0f', cmap='Blues',ax=ax)\r\n",
        "plt.title(\"Fashion MNIST Confusion Matrix\")\r\n",
        "plt.ylabel(\"Actual\")\r\n",
        "plt.xlabel(\"Predicted\")"
      ],
      "execution_count": 132,
      "outputs": [
        {
          "output_type": "execute_result",
          "data": {
            "text/plain": [
              "Text(0.5, 45.722222222222214, 'Predicted')"
            ]
          },
          "metadata": {
            "tags": []
          },
          "execution_count": 132
        },
        {
          "output_type": "display_data",
          "data": {
            "image/png": "[encoded data removed]",
            "text/plain": [
              "<Figure size 600x600 with 2 Axes>"
            ]
          },
          "metadata": {
            "tags": [],
            "needs_background": "light"
          }
        }
      ]
    },
    {
      "cell_type": "code",
      "metadata": {
        "id": "JVQewVDetrSe"
      },
      "source": [
        "import pandas as pd\r\n",
        "training_data = pd.DataFrame(history.history)"
      ],
      "execution_count": 118,
      "outputs": []
    },
    {
      "cell_type": "code",
      "metadata": {
        "colab": {
          "base_uri": "https://localhost:8080/",
          "height": 979
        },
        "id": "eAcUbUbmZid6",
        "outputId": "4f0597ce-4342-4eac-f02f-23434e4a0060"
      },
      "source": [
        "training_data"
      ],
      "execution_count": 119,
      "outputs": [
        {
          "output_type": "execute_result",
          "data": {
            "text/html": [
              "<div>\n",
              "<style scoped>\n",
              "    .dataframe tbody tr th:only-of-type {\n",
              "        vertical-align: middle;\n",
              "    }\n",
              "\n",
              "    .dataframe tbody tr th {\n",
              "        vertical-align: top;\n",
              "    }\n",
              "\n",
              "    .dataframe thead th {\n",
              "        text-align: right;\n",
              "    }\n",
              "</style>\n",
              "<table border=\"1\" class=\"dataframe\">\n",
              "  <thead>\n",
              "    <tr style=\"text-align: right;\">\n",
              "      <th></th>\n",
              "      <th>loss</th>\n",
              "      <th>categorical_crossentropy</th>\n",
              "      <th>categorical_accuracy</th>\n",
              "      <th>lr</th>\n",
              "    </tr>\n",
              "  </thead>\n",
              "  <tbody>\n",
              "    <tr>\n",
              "      <th>0</th>\n",
              "      <td>0.565573</td>\n",
              "      <td>0.565573</td>\n",
              "      <td>0.805150</td>\n",
              "      <td>0.005</td>\n",
              "    </tr>\n",
              "    <tr>\n",
              "      <th>1</th>\n",
              "      <td>0.432304</td>\n",
              "      <td>0.432304</td>\n",
              "      <td>0.847500</td>\n",
              "      <td>0.005</td>\n",
              "    </tr>\n",
              "    <tr>\n",
              "      <th>2</th>\n",
              "      <td>0.403060</td>\n",
              "      <td>0.403060</td>\n",
              "      <td>0.857900</td>\n",
              "      <td>0.005</td>\n",
              "    </tr>\n",
              "    <tr>\n",
              "      <th>3</th>\n",
              "      <td>0.384681</td>\n",
              "      <td>0.384681</td>\n",
              "      <td>0.863117</td>\n",
              "      <td>0.005</td>\n",
              "    </tr>\n",
              "    <tr>\n",
              "      <th>4</th>\n",
              "      <td>0.373374</td>\n",
              "      <td>0.373374</td>\n",
              "      <td>0.867517</td>\n",
              "      <td>0.005</td>\n",
              "    </tr>\n",
              "    <tr>\n",
              "      <th>5</th>\n",
              "      <td>0.363505</td>\n",
              "      <td>0.363505</td>\n",
              "      <td>0.870133</td>\n",
              "      <td>0.005</td>\n",
              "    </tr>\n",
              "    <tr>\n",
              "      <th>6</th>\n",
              "      <td>0.357055</td>\n",
              "      <td>0.357055</td>\n",
              "      <td>0.872683</td>\n",
              "      <td>0.005</td>\n",
              "    </tr>\n",
              "    <tr>\n",
              "      <th>7</th>\n",
              "      <td>0.350761</td>\n",
              "      <td>0.350761</td>\n",
              "      <td>0.875033</td>\n",
              "      <td>0.005</td>\n",
              "    </tr>\n",
              "    <tr>\n",
              "      <th>8</th>\n",
              "      <td>0.345142</td>\n",
              "      <td>0.345142</td>\n",
              "      <td>0.876850</td>\n",
              "      <td>0.005</td>\n",
              "    </tr>\n",
              "    <tr>\n",
              "      <th>9</th>\n",
              "      <td>0.340192</td>\n",
              "      <td>0.340192</td>\n",
              "      <td>0.878250</td>\n",
              "      <td>0.005</td>\n",
              "    </tr>\n",
              "    <tr>\n",
              "      <th>10</th>\n",
              "      <td>0.335751</td>\n",
              "      <td>0.335751</td>\n",
              "      <td>0.878717</td>\n",
              "      <td>0.005</td>\n",
              "    </tr>\n",
              "    <tr>\n",
              "      <th>11</th>\n",
              "      <td>0.331910</td>\n",
              "      <td>0.331910</td>\n",
              "      <td>0.881067</td>\n",
              "      <td>0.005</td>\n",
              "    </tr>\n",
              "    <tr>\n",
              "      <th>12</th>\n",
              "      <td>0.329533</td>\n",
              "      <td>0.329533</td>\n",
              "      <td>0.882217</td>\n",
              "      <td>0.005</td>\n",
              "    </tr>\n",
              "    <tr>\n",
              "      <th>13</th>\n",
              "      <td>0.326218</td>\n",
              "      <td>0.326218</td>\n",
              "      <td>0.882633</td>\n",
              "      <td>0.005</td>\n",
              "    </tr>\n",
              "    <tr>\n",
              "      <th>14</th>\n",
              "      <td>0.322682</td>\n",
              "      <td>0.322682</td>\n",
              "      <td>0.883683</td>\n",
              "      <td>0.005</td>\n",
              "    </tr>\n",
              "    <tr>\n",
              "      <th>15</th>\n",
              "      <td>0.320474</td>\n",
              "      <td>0.320474</td>\n",
              "      <td>0.884817</td>\n",
              "      <td>0.005</td>\n",
              "    </tr>\n",
              "    <tr>\n",
              "      <th>16</th>\n",
              "      <td>0.317919</td>\n",
              "      <td>0.317919</td>\n",
              "      <td>0.885683</td>\n",
              "      <td>0.005</td>\n",
              "    </tr>\n",
              "    <tr>\n",
              "      <th>17</th>\n",
              "      <td>0.315078</td>\n",
              "      <td>0.315078</td>\n",
              "      <td>0.885700</td>\n",
              "      <td>0.005</td>\n",
              "    </tr>\n",
              "    <tr>\n",
              "      <th>18</th>\n",
              "      <td>0.313559</td>\n",
              "      <td>0.313559</td>\n",
              "      <td>0.885800</td>\n",
              "      <td>0.005</td>\n",
              "    </tr>\n",
              "    <tr>\n",
              "      <th>19</th>\n",
              "      <td>0.311277</td>\n",
              "      <td>0.311277</td>\n",
              "      <td>0.888267</td>\n",
              "      <td>0.005</td>\n",
              "    </tr>\n",
              "    <tr>\n",
              "      <th>20</th>\n",
              "      <td>0.310059</td>\n",
              "      <td>0.310059</td>\n",
              "      <td>0.888400</td>\n",
              "      <td>0.005</td>\n",
              "    </tr>\n",
              "    <tr>\n",
              "      <th>21</th>\n",
              "      <td>0.307158</td>\n",
              "      <td>0.307158</td>\n",
              "      <td>0.888850</td>\n",
              "      <td>0.005</td>\n",
              "    </tr>\n",
              "    <tr>\n",
              "      <th>22</th>\n",
              "      <td>0.305344</td>\n",
              "      <td>0.305344</td>\n",
              "      <td>0.888800</td>\n",
              "      <td>0.005</td>\n",
              "    </tr>\n",
              "    <tr>\n",
              "      <th>23</th>\n",
              "      <td>0.302744</td>\n",
              "      <td>0.302744</td>\n",
              "      <td>0.890750</td>\n",
              "      <td>0.005</td>\n",
              "    </tr>\n",
              "    <tr>\n",
              "      <th>24</th>\n",
              "      <td>0.301573</td>\n",
              "      <td>0.301573</td>\n",
              "      <td>0.890133</td>\n",
              "      <td>0.005</td>\n",
              "    </tr>\n",
              "    <tr>\n",
              "      <th>25</th>\n",
              "      <td>0.300612</td>\n",
              "      <td>0.300612</td>\n",
              "      <td>0.891317</td>\n",
              "      <td>0.005</td>\n",
              "    </tr>\n",
              "    <tr>\n",
              "      <th>26</th>\n",
              "      <td>0.298297</td>\n",
              "      <td>0.298297</td>\n",
              "      <td>0.891933</td>\n",
              "      <td>0.005</td>\n",
              "    </tr>\n",
              "    <tr>\n",
              "      <th>27</th>\n",
              "      <td>0.297572</td>\n",
              "      <td>0.297572</td>\n",
              "      <td>0.891250</td>\n",
              "      <td>0.005</td>\n",
              "    </tr>\n",
              "    <tr>\n",
              "      <th>28</th>\n",
              "      <td>0.296342</td>\n",
              "      <td>0.296342</td>\n",
              "      <td>0.892183</td>\n",
              "      <td>0.005</td>\n",
              "    </tr>\n",
              "    <tr>\n",
              "      <th>29</th>\n",
              "      <td>0.293405</td>\n",
              "      <td>0.293405</td>\n",
              "      <td>0.893200</td>\n",
              "      <td>0.005</td>\n",
              "    </tr>\n",
              "  </tbody>\n",
              "</table>\n",
              "</div>"
            ],
            "text/plain": [
              "        loss  categorical_crossentropy  categorical_accuracy     lr\n",
              "0   0.565573                  0.565573              0.805150  0.005\n",
              "1   0.432304                  0.432304              0.847500  0.005\n",
              "2   0.403060                  0.403060              0.857900  0.005\n",
              "3   0.384681                  0.384681              0.863117  0.005\n",
              "4   0.373374                  0.373374              0.867517  0.005\n",
              "5   0.363505                  0.363505              0.870133  0.005\n",
              "6   0.357055                  0.357055              0.872683  0.005\n",
              "7   0.350761                  0.350761              0.875033  0.005\n",
              "8   0.345142                  0.345142              0.876850  0.005\n",
              "9   0.340192                  0.340192              0.878250  0.005\n",
              "10  0.335751                  0.335751              0.878717  0.005\n",
              "11  0.331910                  0.331910              0.881067  0.005\n",
              "12  0.329533                  0.329533              0.882217  0.005\n",
              "13  0.326218                  0.326218              0.882633  0.005\n",
              "14  0.322682                  0.322682              0.883683  0.005\n",
              "15  0.320474                  0.320474              0.884817  0.005\n",
              "16  0.317919                  0.317919              0.885683  0.005\n",
              "17  0.315078                  0.315078              0.885700  0.005\n",
              "18  0.313559                  0.313559              0.885800  0.005\n",
              "19  0.311277                  0.311277              0.888267  0.005\n",
              "20  0.310059                  0.310059              0.888400  0.005\n",
              "21  0.307158                  0.307158              0.888850  0.005\n",
              "22  0.305344                  0.305344              0.888800  0.005\n",
              "23  0.302744                  0.302744              0.890750  0.005\n",
              "24  0.301573                  0.301573              0.890133  0.005\n",
              "25  0.300612                  0.300612              0.891317  0.005\n",
              "26  0.298297                  0.298297              0.891933  0.005\n",
              "27  0.297572                  0.297572              0.891250  0.005\n",
              "28  0.296342                  0.296342              0.892183  0.005\n",
              "29  0.293405                  0.293405              0.893200  0.005"
            ]
          },
          "metadata": {
            "tags": []
          },
          "execution_count": 119
        }
      ]
    },
    {
      "cell_type": "code",
      "metadata": {
        "id": "wZEa4ryfZ92X",
        "colab": {
          "base_uri": "https://localhost:8080/",
          "height": 421
        },
        "outputId": "066a1763-f603-4390-fb6e-b371b863befb"
      },
      "source": [
        "plt.figure(dpi=100)\r\n",
        "plt.title(\"Fashion MNIST Training Data\")\r\n",
        "plt.xlabel(\"Epoch\")\r\n",
        "ax = plt.gca()\r\n",
        "training_data['categorical_crossentropy'].plot(ax=ax)\r\n",
        "training_data['categorical_accuracy'].plot(ax=ax)\r\n",
        "plt.legend()"
      ],
      "execution_count": 133,
      "outputs": [
        {
          "output_type": "execute_result",
          "data": {
            "text/plain": [
              "<matplotlib.legend.Legend at 0x7f33f38f4908>"
            ]
          },
          "metadata": {
            "tags": []
          },
          "execution_count": 133
        },
        {
          "output_type": "display_data",
          "data": {
            "image/png": "[encoded data removed]",
            "text/plain": [
              "<Figure size 600x400 with 1 Axes>"
            ]
          },
          "metadata": {
            "tags": [],
            "needs_background": "light"
          }
        }
      ]
    },
    {
      "cell_type": "code",
      "metadata": {
        "colab": {
          "base_uri": "https://localhost:8080/",
          "height": 421
        },
        "id": "9ZxusTrhwZvm",
        "outputId": "118e7e9f-080d-4e7b-af86-97030426332c"
      },
      "source": [
        "plt.figure(dpi=100)\r\n",
        "plt.title(\"Fashion MNIST Training Data\")\r\n",
        "plt.ylabel(\"Learning Rate\")\r\n",
        "plt.xlabel(\"Epoch\")\r\n",
        "ax = plt.gca()\r\n",
        "training_data['lr'].plot(ax=ax)\r\n",
        "plt.legend()"
      ],
      "execution_count": 136,
      "outputs": [
        {
          "output_type": "execute_result",
          "data": {
            "text/plain": [
              "<matplotlib.legend.Legend at 0x7f33fd2d7550>"
            ]
          },
          "metadata": {
            "tags": []
          },
          "execution_count": 136
        },
        {
          "output_type": "display_data",
          "data": {
            "image/png": "[encoded data removed]",
            "text/plain": [
              "<Figure size 600x400 with 1 Axes>"
            ]
          },
          "metadata": {
            "tags": [],
            "needs_background": "light"
          }
        }
      ]
    },
    {
      "cell_type": "code",
      "metadata": {
        "id": "bnzhjMVwwp-n"
      },
      "source": [
        ""
      ],
      "execution_count": null,
      "outputs": []
    }
  ]
}