{
 "cells": [
  {
   "cell_type": "markdown",
   "metadata": {
    "id": "F34h10_btypp"
   },
   "source": [
    "## Install PGMPY library  https://github.com/pgmpy/pgmpy\n",
    "### Documentation for this library is at http://pgmpy.org/"
   ]
  },
  {
   "cell_type": "code",
   "execution_count": 1,
   "metadata": {
    "id": "s2dCW3Srtypw"
   },
   "outputs": [
    {
     "name": "stdout",
     "output_type": "stream",
     "text": [
      "Requirement already satisfied: pgmpy in c:\\users\\iancw\\anaconda3\\lib\\site-packages (0.1.13)\n",
      "Requirement already satisfied: numpy in c:\\users\\iancw\\anaconda3\\lib\\site-packages (from pgmpy) (1.19.2)\n",
      "Requirement already satisfied: networkx in c:\\users\\iancw\\anaconda3\\lib\\site-packages (from pgmpy) (2.5)\n",
      "Requirement already satisfied: tqdm in c:\\users\\iancw\\anaconda3\\lib\\site-packages (from pgmpy) (4.50.2)\n",
      "Requirement already satisfied: statsmodels in c:\\users\\iancw\\anaconda3\\lib\\site-packages (from pgmpy) (0.12.0)\n",
      "Requirement already satisfied: scikit-learn in c:\\users\\iancw\\anaconda3\\lib\\site-packages (from pgmpy) (0.23.2)\n",
      "Requirement already satisfied: pyparsing in c:\\users\\iancw\\anaconda3\\lib\\site-packages (from pgmpy) (2.4.7)\n",
      "Requirement already satisfied: torch in c:\\users\\iancw\\anaconda3\\lib\\site-packages (from pgmpy) (1.7.1)\n",
      "Requirement already satisfied: pandas in c:\\users\\iancw\\anaconda3\\lib\\site-packages (from pgmpy) (1.1.3)\n",
      "Requirement already satisfied: scipy in c:\\users\\iancw\\anaconda3\\lib\\site-packages (from pgmpy) (1.5.2)\n",
      "Requirement already satisfied: joblib in c:\\users\\iancw\\anaconda3\\lib\\site-packages (from pgmpy) (0.17.0)\n",
      "Requirement already satisfied: decorator>=4.3.0 in c:\\users\\iancw\\anaconda3\\lib\\site-packages (from networkx->pgmpy) (4.4.2)\n",
      "Requirement already satisfied: patsy>=0.5 in c:\\users\\iancw\\anaconda3\\lib\\site-packages (from statsmodels->pgmpy) (0.5.1)\n",
      "Requirement already satisfied: threadpoolctl>=2.0.0 in c:\\users\\iancw\\anaconda3\\lib\\site-packages (from scikit-learn->pgmpy) (2.1.0)\n",
      "Requirement already satisfied: typing-extensions in c:\\users\\iancw\\anaconda3\\lib\\site-packages (from torch->pgmpy) (3.7.4.3)\n",
      "Requirement already satisfied: python-dateutil>=2.7.3 in c:\\users\\iancw\\anaconda3\\lib\\site-packages (from pandas->pgmpy) (2.8.1)\n",
      "Requirement already satisfied: pytz>=2017.2 in c:\\users\\iancw\\anaconda3\\lib\\site-packages (from pandas->pgmpy) (2020.1)\n",
      "Requirement already satisfied: six in c:\\users\\iancw\\anaconda3\\lib\\site-packages (from patsy>=0.5->statsmodels->pgmpy) (1.15.0)\n"
     ]
    }
   ],
   "source": [
    "!pip install pgmpy"
   ]
  },
  {
   "cell_type": "code",
   "execution_count": 2,
   "metadata": {
    "id": "i7TxYKZ5typx"
   },
   "outputs": [],
   "source": [
    "# Import relevant packages\n",
    "from pgmpy.models import BayesianModel\n",
    "from pgmpy.factors.discrete import TabularCPD\n",
    "import sys"
   ]
  },
  {
   "cell_type": "markdown",
   "metadata": {
    "id": "MvDraWC2typy"
   },
   "source": [
    "## Create the Bayesian network\n",
    "### Check example usage at: https://github.com/pgmpy/pgmpy_notebook/blob/master/notebooks/2.%20Bayesian%20Networks.ipynb"
   ]
  },
  {
   "cell_type": "code",
   "execution_count": 3,
   "metadata": {
    "id": "RUuTLazBtypy"
   },
   "outputs": [],
   "source": [
    "# We first create a model which containts edges of the graph\n",
    "model = BayesianModel([('S','Y'),\n",
    "                       ('S','W'),\n",
    "                       ('S','C'),\n",
    "                       ('F','R'),\n",
    "                       ('M','R'),\n",
    "                       ('R','C')])\n",
    "\n",
    "# Enter conditional probability distribution for each variable\n",
    "\n",
    "# Prior probability for smoking P(S)\n",
    "cpd_S = TabularCPD(variable='S', variable_card=2, values=[[0.85],[0.15]])\n",
    "\n",
    "# Prior probability for solar flare P(F)\n",
    "cpd_F = TabularCPD(variable='F', variable_card=2, values=[[0.99],[0.01]])\n",
    "\n",
    "# Prior probability for solar flare P(M)\n",
    "cpd_M = TabularCPD(variable='M', variable_card=2, values=[[0.05],[0.95]])"
   ]
  },
  {
   "cell_type": "markdown",
   "metadata": {
    "id": "oN1ukLhstypy"
   },
   "source": [
    "### Enter conditional probability in the format shown below. In pgmpy, the colums are the values of parent variables and rows are the values of the  variable whose CPD you're are writing."
   ]
  },
  {
   "cell_type": "markdown",
   "metadata": {
    "id": "VyCe4naytypy"
   },
   "source": [
    "$\\text{P(Alarm | Burglary, Quake)} = $\n",
    "\\begin{array}{|c|c|c|c|c|}\n",
    "\\hline\n",
    "\\text{Burg} & \\text{Burg_0} & \\text{Burg_0} & \\text{Burg_1} & \\text{Burg_1} \\\\\n",
    "\\hline\n",
    "\\text{Quake} & \\text{Quake_0} & \\text{Quake_1} & \\text{Quake_0} & \\text{Quake_1} \\\\\n",
    "\\hline\n",
    "\\text{Alarm_0} & 0.999 & 0.71 & 0.06  & 0.05 \\\\\n",
    "\\hline\n",
    "\\text{Alarm_1} & 0.001 & 0.29 & 0.94 & 0.95 \\\\\n",
    "\\hline\n",
    "\\end{array}"
   ]
  },
  {
   "cell_type": "code",
   "execution_count": 4,
   "metadata": {
    "id": "lmn0UfaNtypz"
   },
   "outputs": [],
   "source": [
    "# Conditional probability for W or P(W|S)\n",
    "\n",
    "cpd_W = TabularCPD(variable='W',variable_card=2,\n",
    "                   values = [[0.8,0.1],\n",
    "                             [0.2,0.9]],\n",
    "                   evidence = ['S'],\n",
    "                   evidence_card=[2])\n",
    "\n",
    "# Conditional probability for R or P(R|F,M)\n",
    "\n",
    "cpd_R = TabularCPD(variable='R', variable_card=2,\n",
    "                   values = [[0.9, 0.8, 0.8, 0.1],\n",
    "                             [0.1, 0.2, 0.2, 0.9]],\n",
    "                   evidence = ['F','M'],\n",
    "                   evidence_card=[2,2])\n",
    "\n",
    "# Conditional probability for C or P(C|S,R)\n",
    "\n",
    "cpd_C = TabularCPD(variable='C', variable_card=2, \n",
    "                   values = [[0.9, 0.4, 0.7, 0.1],\n",
    "                             [0.1, 0.6, 0.3, 0.9]],                             \n",
    "                   evidence = ['S','R'],\n",
    "                   evidence_card=[2,2])\n",
    "\n",
    "# Conditional probability for Y or P(Y|S)\n",
    "cpd_Y = TabularCPD(variable='Y',variable_card=2,\n",
    "                   values = [[0.89,0.2],\n",
    "                             [0.11,0.8]],\n",
    "                   evidence = ['S'], \n",
    "                   evidence_card=[2])"
   ]
  },
  {
   "cell_type": "code",
   "execution_count": 5,
   "metadata": {},
   "outputs": [],
   "source": [
    "model.add_cpds(cpd_S, cpd_F, cpd_M, cpd_W, cpd_R, cpd_C, cpd_Y)"
   ]
  },
  {
   "cell_type": "markdown",
   "metadata": {
    "id": "gpONpADUtypz"
   },
   "source": [
    "## Validate network parameters"
   ]
  },
  {
   "cell_type": "code",
   "execution_count": 6,
   "metadata": {
    "id": "nvwSW7bWtypz"
   },
   "outputs": [
    {
     "name": "stdout",
     "output_type": "stream",
     "text": [
      "True\n"
     ]
    }
   ],
   "source": [
    "print(model.check_model())\n",
    "\n",
    "# cpd = model.get_cpds('Alarm')\n",
    "# print('vars:', cpd.variable)"
   ]
  },
  {
   "cell_type": "code",
   "execution_count": 7,
   "metadata": {},
   "outputs": [
    {
     "name": "stdout",
     "output_type": "stream",
     "text": [
      "P(S)\n",
      "+------+------+\n",
      "| S(0) | 0.85 |\n",
      "+------+------+\n",
      "| S(1) | 0.15 |\n",
      "+------+------+\n",
      "P(F)\n",
      "+------+------+\n",
      "| F(0) | 0.99 |\n",
      "+------+------+\n",
      "| F(1) | 0.01 |\n",
      "+------+------+\n",
      "P(M)\n",
      "+------+------+\n",
      "| M(0) | 0.05 |\n",
      "+------+------+\n",
      "| M(1) | 0.95 |\n",
      "+------+------+\n",
      "P(W|S)\n",
      "+------+------+------+\n",
      "| S    | S(0) | S(1) |\n",
      "+------+------+------+\n",
      "| W(0) | 0.8  | 0.1  |\n",
      "+------+------+------+\n",
      "| W(1) | 0.2  | 0.9  |\n",
      "+------+------+------+\n",
      "P(R|F,M)\n",
      "+------+------+------+------+------+\n",
      "| F    | F(0) | F(0) | F(1) | F(1) |\n",
      "+------+------+------+------+------+\n",
      "| M    | M(0) | M(1) | M(0) | M(1) |\n",
      "+------+------+------+------+------+\n",
      "| R(0) | 0.9  | 0.8  | 0.8  | 0.1  |\n",
      "+------+------+------+------+------+\n",
      "| R(1) | 0.1  | 0.2  | 0.2  | 0.9  |\n",
      "+------+------+------+------+------+\n",
      "P(C|S,R)\n",
      "+------+------+------+------+------+\n",
      "| S    | S(0) | S(0) | S(1) | S(1) |\n",
      "+------+------+------+------+------+\n",
      "| R    | R(0) | R(1) | R(0) | R(1) |\n",
      "+------+------+------+------+------+\n",
      "| C(0) | 0.9  | 0.4  | 0.7  | 0.1  |\n",
      "+------+------+------+------+------+\n",
      "| C(1) | 0.1  | 0.6  | 0.3  | 0.9  |\n",
      "+------+------+------+------+------+\n",
      "P(Y|S)\n",
      "+------+------+------+\n",
      "| S    | S(0) | S(1) |\n",
      "+------+------+------+\n",
      "| Y(0) | 0.89 | 0.2  |\n",
      "+------+------+------+\n",
      "| Y(1) | 0.11 | 0.8  |\n",
      "+------+------+------+\n"
     ]
    }
   ],
   "source": [
    "cpds = model.get_cpds()\n",
    "for cpd in cpds:\n",
    "    evidence = \",\".join(cpd.variables[1:])\n",
    "    if evidence:\n",
    "        print(f\"P({cpd.variables[0]}|{evidence})\")\n",
    "    else:\n",
    "        print(f\"P({cpd.variables[0]})\")\n",
    "    print(cpd)"
   ]
  },
  {
   "cell_type": "code",
   "execution_count": 8,
   "metadata": {},
   "outputs": [],
   "source": [
    "from pgmpy.inference import VariableElimination\n",
    "\n",
    "# Going to do variable elimination\n",
    "infer = VariableElimination(model)"
   ]
  },
  {
   "cell_type": "code",
   "execution_count": 9,
   "metadata": {},
   "outputs": [
    {
     "name": "stderr",
     "output_type": "stream",
     "text": [
      "Finding Elimination Order: :   0%|                                                               | 0/5 [00:00<?, ?it/s]\n",
      "  0%|                                                                                            | 0/5 [00:00<?, ?it/s]\u001b[A\n",
      "Eliminating: Y:   0%|                                                                            | 0/5 [00:00<?, ?it/s]\u001b[A\n",
      "Eliminating: M:   0%|                                                                            | 0/5 [00:00<?, ?it/s]\u001b[A\n",
      "Eliminating: F:   0%|                                                                            | 0/5 [00:00<?, ?it/s]\u001b[A\n",
      "Eliminating: R:   0%|                                                                            | 0/5 [00:00<?, ?it/s]\u001b[A\n",
      "Eliminating: S: 100%|███████████████████████████████████████████████████████████████████| 5/5 [00:00<00:00, 384.62it/s]\u001b[A"
     ]
    },
    {
     "name": "stdout",
     "output_type": "stream",
     "text": [
      "Probability C|W\n",
      "+------+----------+\n",
      "| C    |   phi(C) |\n",
      "+======+==========+\n",
      "| C(0) |   0.7017 |\n",
      "+------+----------+\n",
      "| C(1) |   0.2983 |\n",
      "+------+----------+\n"
     ]
    },
    {
     "name": "stderr",
     "output_type": "stream",
     "text": [
      "\n"
     ]
    }
   ],
   "source": [
    "phi_query = infer.query(['C'], evidence={'W':1}, joint = False)\n",
    "factor = phi_query['C']\n",
    "print('Probability C|W')\n",
    "print(factor)"
   ]
  },
  {
   "cell_type": "code",
   "execution_count": 10,
   "metadata": {},
   "outputs": [
    {
     "name": "stderr",
     "output_type": "stream",
     "text": [
      "\n",
      "  0%|                                                                                            | 0/5 [00:00<?, ?it/s]\u001b[A\n",
      "Finding Elimination Order: :   0%|                                                               | 0/5 [00:00<?, ?it/s]\u001b[A\n",
      "\n",
      "  0%|                                                                                            | 0/5 [00:00<?, ?it/s]\u001b[A\u001b[A\n",
      "\n",
      "Eliminating: W:   0%|                                                                            | 0/5 [00:00<?, ?it/s]\u001b[A\u001b[A\n",
      "\n",
      "Eliminating: Y:   0%|                                                                            | 0/5 [00:00<?, ?it/s]\u001b[A\u001b[A\n",
      "\n",
      "Eliminating: M:   0%|                                                                            | 0/5 [00:00<?, ?it/s]\u001b[A\u001b[A\n",
      "\n",
      "Eliminating: F:   0%|                                                                            | 0/5 [00:00<?, ?it/s]\u001b[A\u001b[A\n",
      "\n",
      "Eliminating: R: 100%|███████████████████████████████████████████████████████████████████| 5/5 [00:00<00:00, 357.09it/s]\u001b[A\u001b[A\n",
      "Finding Elimination Order: : 100%|███████████████████████████████████████████████████████| 5/5 [00:00<00:00, 94.34it/s]\n",
      "Finding Elimination Order: : 100%|██████████████████████████████████████████████████████| 5/5 [00:00<00:00, 250.00it/s]"
     ]
    },
    {
     "name": "stdout",
     "output_type": "stream",
     "text": [
      "Probability S|C\n",
      "+------+----------+\n",
      "| S    |   phi(S) |\n",
      "+======+==========+\n",
      "| S(0) |   0.7300 |\n",
      "+------+----------+\n",
      "| S(1) |   0.2700 |\n",
      "+------+----------+\n"
     ]
    },
    {
     "name": "stderr",
     "output_type": "stream",
     "text": [
      "\n"
     ]
    }
   ],
   "source": [
    "phi_query = infer.query(['S'], evidence={'C':1}, joint = False)\n",
    "factor = phi_query['S']\n",
    "print('Probability S|C')\n",
    "print(factor)"
   ]
  },
  {
   "cell_type": "code",
   "execution_count": 15,
   "metadata": {},
   "outputs": [
    {
     "name": "stderr",
     "output_type": "stream",
     "text": [
      "Finding Elimination Order: : 100%|██████████████████████████████████████████████████████| 4/4 [19:17<00:00, 289.32s/it]\n",
      "Finding Elimination Order: : 100%|██████████████████████████████████████████████████████| 4/4 [12:31<00:00, 187.92s/it]\n",
      "Finding Elimination Order: :   0%|                                                               | 0/4 [00:00<?, ?it/s]\n",
      "  0%|                                                                                            | 0/4 [00:00<?, ?it/s]\u001b[A\n",
      "Eliminating: M:   0%|                                                                            | 0/4 [00:00<?, ?it/s]\u001b[A\n",
      "Eliminating: W:   0%|                                                                            | 0/4 [00:00<?, ?it/s]\u001b[A\n",
      "Eliminating: F:   0%|                                                                            | 0/4 [00:00<?, ?it/s]\u001b[A\n",
      "Eliminating: Y: 100%|███████████████████████████████████████████████████████████████████| 4/4 [00:00<00:00, 444.24it/s]\u001b[A"
     ]
    },
    {
     "name": "stdout",
     "output_type": "stream",
     "text": [
      "+------+----------+\n",
      "| S    |   phi(S) |\n",
      "+======+==========+\n",
      "| S(0) |   0.7300 |\n",
      "+------+----------+\n",
      "| S(1) |   0.2700 |\n",
      "+------+----------+\n",
      "+------+----------+\n",
      "| R    |   phi(R) |\n",
      "+======+==========+\n",
      "| R(0) |   0.4437 |\n",
      "+------+----------+\n",
      "| R(1) |   0.5563 |\n",
      "+------+----------+\n"
     ]
    },
    {
     "name": "stderr",
     "output_type": "stream",
     "text": [
      "\n"
     ]
    }
   ],
   "source": [
    "phi_query = infer.query(['S','R'], evidence={'C':1}, joint = False)\n",
    "factor_S = phi_query['S']\n",
    "factor_R = phi_query['R']\n",
    "\n",
    "print(factor_S)\n",
    "print(factor_R)"
   ]
  },
  {
   "cell_type": "code",
   "execution_count": 12,
   "metadata": {},
   "outputs": [
    {
     "data": {
      "text/plain": [
       "{'S': <DiscreteFactor representing phi(S:2) at 0x244c38538e0>,\n",
       " 'R': <DiscreteFactor representing phi(R:2) at 0x244c3853970>}"
      ]
     },
     "execution_count": 12,
     "metadata": {},
     "output_type": "execute_result"
    }
   ],
   "source": [
    "phi_query"
   ]
  },
  {
   "cell_type": "code",
   "execution_count": 23,
   "metadata": {},
   "outputs": [
    {
     "name": "stderr",
     "output_type": "stream",
     "text": [
      "\n",
      "  0%|                                                                                            | 0/5 [00:00<?, ?it/s]\u001b[A\n",
      "Finding Elimination Order: :   0%|                                                               | 0/5 [00:00<?, ?it/s]\u001b[A\n",
      "\n",
      "  0%|                                                                                            | 0/5 [00:00<?, ?it/s]\u001b[A\u001b[A\n",
      "\n",
      "Eliminating: W:   0%|                                                                            | 0/5 [00:00<?, ?it/s]\u001b[A\u001b[A\n",
      "\n",
      "Eliminating: Y:   0%|                                                                            | 0/5 [00:00<?, ?it/s]\u001b[A\u001b[A\n",
      "\n",
      "Eliminating: S:   0%|                                                                            | 0/5 [00:00<?, ?it/s]\u001b[A\u001b[A\n",
      "\n",
      "Eliminating: F:   0%|                                                                            | 0/5 [00:00<?, ?it/s]\u001b[A\u001b[A\n",
      "\n",
      "Eliminating: R: 100%|███████████████████████████████████████████████████████████████████| 5/5 [00:00<00:00, 499.86it/s]\u001b[A\u001b[A"
     ]
    },
    {
     "name": "stdout",
     "output_type": "stream",
     "text": [
      "+------+----------+\n",
      "| C    |   phi(C) |\n",
      "+======+==========+\n",
      "| C(0) |   0.8180 |\n",
      "+------+----------+\n",
      "| C(1) |   0.1820 |\n",
      "+------+----------+\n"
     ]
    },
    {
     "name": "stderr",
     "output_type": "stream",
     "text": [
      "\n"
     ]
    }
   ],
   "source": [
    "phi_query = infer.query(['C'],evidence={\"M\":0})\n",
    "print(phi_query)"
   ]
  },
  {
   "cell_type": "code",
   "execution_count": null,
   "metadata": {},
   "outputs": [],
   "source": []
  }
 ],
 "metadata": {
  "colab": {
   "collapsed_sections": [],
   "name": "pgm_todo.ipynb",
   "provenance": []
  },
  "kernelspec": {
   "display_name": "Python 3",
   "language": "python",
   "name": "python3"
  },
  "language_info": {
   "codemirror_mode": {
    "name": "ipython",
    "version": 3
   },
   "file_extension": ".py",
   "mimetype": "text/x-python",
   "name": "python",
   "nbconvert_exporter": "python",
   "pygments_lexer": "ipython3",
   "version": "3.8.5"
  }
 },
 "nbformat": 4,
 "nbformat_minor": 4
}
